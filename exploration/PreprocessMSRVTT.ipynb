{
 "cells": [
  {
   "cell_type": "code",
   "execution_count": 1,
   "id": "8c763f42",
   "metadata": {},
   "outputs": [],
   "source": [
    "import pandas as pd"
   ]
  },
  {
   "cell_type": "code",
   "execution_count": 4,
   "id": "43caf10a",
   "metadata": {},
   "outputs": [],
   "source": [
    "path = '../data/msrvtt/MSRVTT-QA/train_qa.json'"
   ]
  },
  {
   "cell_type": "code",
   "execution_count": 5,
   "id": "b5dcde6e",
   "metadata": {},
   "outputs": [
    {
     "data": {
      "text/html": [
       "<div>\n",
       "<style scoped>\n",
       "    .dataframe tbody tr th:only-of-type {\n",
       "        vertical-align: middle;\n",
       "    }\n",
       "\n",
       "    .dataframe tbody tr th {\n",
       "        vertical-align: top;\n",
       "    }\n",
       "\n",
       "    .dataframe thead th {\n",
       "        text-align: right;\n",
       "    }\n",
       "</style>\n",
       "<table border=\"1\" class=\"dataframe\">\n",
       "  <thead>\n",
       "    <tr style=\"text-align: right;\">\n",
       "      <th></th>\n",
       "      <th>answer</th>\n",
       "      <th>category_id</th>\n",
       "      <th>id</th>\n",
       "      <th>question</th>\n",
       "      <th>video_id</th>\n",
       "    </tr>\n",
       "  </thead>\n",
       "  <tbody>\n",
       "    <tr>\n",
       "      <th>0</th>\n",
       "      <td>man</td>\n",
       "      <td>9</td>\n",
       "      <td>0</td>\n",
       "      <td>who drives down the road in an audi?</td>\n",
       "      <td>0</td>\n",
       "    </tr>\n",
       "    <tr>\n",
       "      <th>1</th>\n",
       "      <td>show</td>\n",
       "      <td>9</td>\n",
       "      <td>1</td>\n",
       "      <td>what is a man doing?</td>\n",
       "      <td>0</td>\n",
       "    </tr>\n",
       "    <tr>\n",
       "      <th>2</th>\n",
       "      <td>drive</td>\n",
       "      <td>9</td>\n",
       "      <td>2</td>\n",
       "      <td>what is a man silently narrates his experience...</td>\n",
       "      <td>0</td>\n",
       "    </tr>\n",
       "    <tr>\n",
       "      <th>3</th>\n",
       "      <td>drive</td>\n",
       "      <td>9</td>\n",
       "      <td>3</td>\n",
       "      <td>what is a person doing?</td>\n",
       "      <td>0</td>\n",
       "    </tr>\n",
       "    <tr>\n",
       "      <th>4</th>\n",
       "      <td>tell</td>\n",
       "      <td>9</td>\n",
       "      <td>4</td>\n",
       "      <td>what is a person doing?</td>\n",
       "      <td>0</td>\n",
       "    </tr>\n",
       "    <tr>\n",
       "      <th>...</th>\n",
       "      <td>...</td>\n",
       "      <td>...</td>\n",
       "      <td>...</td>\n",
       "      <td>...</td>\n",
       "      <td>...</td>\n",
       "    </tr>\n",
       "    <tr>\n",
       "      <th>158576</th>\n",
       "      <td>two</td>\n",
       "      <td>7</td>\n",
       "      <td>158576</td>\n",
       "      <td>how many people are kissing each other?</td>\n",
       "      <td>6512</td>\n",
       "    </tr>\n",
       "    <tr>\n",
       "      <th>158577</th>\n",
       "      <td>man</td>\n",
       "      <td>7</td>\n",
       "      <td>158577</td>\n",
       "      <td>who kissing a woman?</td>\n",
       "      <td>6512</td>\n",
       "    </tr>\n",
       "    <tr>\n",
       "      <th>158578</th>\n",
       "      <td>two</td>\n",
       "      <td>7</td>\n",
       "      <td>158578</td>\n",
       "      <td>how many people are kissing?</td>\n",
       "      <td>6512</td>\n",
       "    </tr>\n",
       "    <tr>\n",
       "      <th>158579</th>\n",
       "      <td>man</td>\n",
       "      <td>7</td>\n",
       "      <td>158579</td>\n",
       "      <td>who is kissing a woman?</td>\n",
       "      <td>6512</td>\n",
       "    </tr>\n",
       "    <tr>\n",
       "      <th>158580</th>\n",
       "      <td>man</td>\n",
       "      <td>7</td>\n",
       "      <td>158580</td>\n",
       "      <td>who kisses the woman?</td>\n",
       "      <td>6512</td>\n",
       "    </tr>\n",
       "  </tbody>\n",
       "</table>\n",
       "<p>158581 rows × 5 columns</p>\n",
       "</div>"
      ],
      "text/plain": [
       "       answer  category_id      id  \\\n",
       "0         man            9       0   \n",
       "1        show            9       1   \n",
       "2       drive            9       2   \n",
       "3       drive            9       3   \n",
       "4        tell            9       4   \n",
       "...       ...          ...     ...   \n",
       "158576    two            7  158576   \n",
       "158577    man            7  158577   \n",
       "158578    two            7  158578   \n",
       "158579    man            7  158579   \n",
       "158580    man            7  158580   \n",
       "\n",
       "                                                 question  video_id  \n",
       "0                    who drives down the road in an audi?         0  \n",
       "1                                    what is a man doing?         0  \n",
       "2       what is a man silently narrates his experience...         0  \n",
       "3                                 what is a person doing?         0  \n",
       "4                                 what is a person doing?         0  \n",
       "...                                                   ...       ...  \n",
       "158576            how many people are kissing each other?      6512  \n",
       "158577                               who kissing a woman?      6512  \n",
       "158578                       how many people are kissing?      6512  \n",
       "158579                            who is kissing a woman?      6512  \n",
       "158580                              who kisses the woman?      6512  \n",
       "\n",
       "[158581 rows x 5 columns]"
      ]
     },
     "execution_count": 5,
     "metadata": {},
     "output_type": "execute_result"
    }
   ],
   "source": [
    "df = pd.read_json(path)\n",
    "df"
   ]
  },
  {
   "cell_type": "markdown",
   "id": "7034b779",
   "metadata": {},
   "source": [
    "## Create Answer Set"
   ]
  },
  {
   "cell_type": "code",
   "execution_count": 6,
   "id": "40e61d2b",
   "metadata": {},
   "outputs": [
    {
     "data": {
      "text/html": [
       "<div>\n",
       "<style scoped>\n",
       "    .dataframe tbody tr th:only-of-type {\n",
       "        vertical-align: middle;\n",
       "    }\n",
       "\n",
       "    .dataframe tbody tr th {\n",
       "        vertical-align: top;\n",
       "    }\n",
       "\n",
       "    .dataframe thead th {\n",
       "        text-align: right;\n",
       "    }\n",
       "</style>\n",
       "<table border=\"1\" class=\"dataframe\">\n",
       "  <thead>\n",
       "    <tr style=\"text-align: right;\">\n",
       "      <th></th>\n",
       "      <th>answer</th>\n",
       "    </tr>\n",
       "  </thead>\n",
       "  <tbody>\n",
       "    <tr>\n",
       "      <th>man</th>\n",
       "      <td>14801</td>\n",
       "    </tr>\n",
       "    <tr>\n",
       "      <th>talk</th>\n",
       "      <td>7493</td>\n",
       "    </tr>\n",
       "    <tr>\n",
       "      <th>woman</th>\n",
       "      <td>6599</td>\n",
       "    </tr>\n",
       "    <tr>\n",
       "      <th>person</th>\n",
       "      <td>5326</td>\n",
       "    </tr>\n",
       "    <tr>\n",
       "      <th>play</th>\n",
       "      <td>4905</td>\n",
       "    </tr>\n",
       "    <tr>\n",
       "      <th>...</th>\n",
       "      <td>...</td>\n",
       "    </tr>\n",
       "    <tr>\n",
       "      <th>pottasium</th>\n",
       "      <td>1</td>\n",
       "    </tr>\n",
       "    <tr>\n",
       "      <th>chastise</th>\n",
       "      <td>1</td>\n",
       "    </tr>\n",
       "    <tr>\n",
       "      <th>chopper</th>\n",
       "      <td>1</td>\n",
       "    </tr>\n",
       "    <tr>\n",
       "      <th>recording</th>\n",
       "      <td>1</td>\n",
       "    </tr>\n",
       "    <tr>\n",
       "      <th>radiator</th>\n",
       "      <td>1</td>\n",
       "    </tr>\n",
       "  </tbody>\n",
       "</table>\n",
       "<p>6211 rows × 1 columns</p>\n",
       "</div>"
      ],
      "text/plain": [
       "           answer\n",
       "man         14801\n",
       "talk         7493\n",
       "woman        6599\n",
       "person       5326\n",
       "play         4905\n",
       "...           ...\n",
       "pottasium       1\n",
       "chastise        1\n",
       "chopper         1\n",
       "recording       1\n",
       "radiator        1\n",
       "\n",
       "[6211 rows x 1 columns]"
      ]
     },
     "execution_count": 6,
     "metadata": {},
     "output_type": "execute_result"
    }
   ],
   "source": [
    "answer_freq = df['answer'].value_counts()\n",
    "answer_freq.to_frame()"
   ]
  },
  {
   "cell_type": "markdown",
   "id": "d2680f60",
   "metadata": {},
   "source": [
    "### Take top 1000 words\n",
    "https://github.com/xudejing/video-question-answering/blob/462f6e599fb02cee77c0b3d86901593efeb11c88/preprocess_msrvttqa.py#L64"
   ]
  },
  {
   "cell_type": "code",
   "execution_count": 7,
   "id": "7a3651a3",
   "metadata": {},
   "outputs": [
    {
     "data": {
      "text/plain": [
       "0            man\n",
       "1           talk\n",
       "2          woman\n",
       "3         person\n",
       "4           play\n",
       "         ...    \n",
       "995       number\n",
       "996       engage\n",
       "997    machinery\n",
       "998       toilet\n",
       "999       bucket\n",
       "Name: index, Length: 1000, dtype: object"
      ]
     },
     "execution_count": 7,
     "metadata": {},
     "output_type": "execute_result"
    }
   ],
   "source": [
    "top_1k = pd.DataFrame(answer_freq.iloc[:1000]).reset_index()\n",
    "top_1k = top_1k['index']\n",
    "top_1k"
   ]
  },
  {
   "cell_type": "markdown",
   "id": "0e6175af",
   "metadata": {},
   "source": [
    "## Create Vocabulary\n",
    "https://github.com/xudejing/video-question-answering/blob/462f6e599fb02cee77c0b3d86901593efeb11c88/preprocess_msrvttqa.py#L77"
   ]
  },
  {
   "cell_type": "code",
   "execution_count": 8,
   "id": "2efc5bd0",
   "metadata": {},
   "outputs": [
    {
     "name": "stdout",
     "output_type": "stream",
     "text": [
      "Number of original rows: 158581\n",
      "Number of rows after filtering: 144367\n"
     ]
    }
   ],
   "source": [
    "vocab = dict()\n",
    "\n",
    "# Only take the questions in the top 1k\n",
    "filtered_df = df[df['answer'].isin(top_1k)]\n",
    "\n",
    "questions = filtered_df['question'].values\n",
    "\n",
    "print(f'Number of original rows: {len(df)}')\n",
    "print(f'Number of rows after filtering: {len(filtered_df)}')"
   ]
  },
  {
   "cell_type": "markdown",
   "id": "9c1f5c46",
   "metadata": {},
   "source": [
    "### Extract Tokens"
   ]
  },
  {
   "cell_type": "code",
   "execution_count": 9,
   "id": "3e665f95",
   "metadata": {},
   "outputs": [
    {
     "data": {
      "text/plain": [
       "what           97959\n",
       "is             89877\n",
       "doing          49904\n",
       "who            41192\n",
       "in             26342\n",
       "               ...  \n",
       "pooped             1\n",
       "pixie              1\n",
       "bal                1\n",
       "congressmen        1\n",
       "radiation          1\n",
       "Length: 16170, dtype: int64"
      ]
     },
     "execution_count": 9,
     "metadata": {},
     "output_type": "execute_result"
    }
   ],
   "source": [
    "for question in questions:\n",
    "    words = question.rstrip('?').split()\n",
    "    \n",
    "    for word in words:\n",
    "        if len(word) >= 2:\n",
    "            vocab[word] = vocab.get(word, 0) + 1\n",
    "\n",
    "vocab = pd.Series(vocab)\n",
    "vocab.sort_values(ascending=False, inplace=True)\n",
    "vocab"
   ]
  },
  {
   "cell_type": "code",
   "execution_count": 10,
   "id": "97907185",
   "metadata": {},
   "outputs": [
    {
     "data": {
      "text/html": [
       "<div>\n",
       "<style scoped>\n",
       "    .dataframe tbody tr th:only-of-type {\n",
       "        vertical-align: middle;\n",
       "    }\n",
       "\n",
       "    .dataframe tbody tr th {\n",
       "        vertical-align: top;\n",
       "    }\n",
       "\n",
       "    .dataframe thead th {\n",
       "        text-align: right;\n",
       "    }\n",
       "</style>\n",
       "<table border=\"1\" class=\"dataframe\">\n",
       "  <thead>\n",
       "    <tr style=\"text-align: right;\">\n",
       "      <th></th>\n",
       "      <th>0</th>\n",
       "    </tr>\n",
       "  </thead>\n",
       "  <tbody>\n",
       "    <tr>\n",
       "      <th>what</th>\n",
       "      <td>97959</td>\n",
       "    </tr>\n",
       "    <tr>\n",
       "      <th>is</th>\n",
       "      <td>89877</td>\n",
       "    </tr>\n",
       "    <tr>\n",
       "      <th>doing</th>\n",
       "      <td>49904</td>\n",
       "    </tr>\n",
       "    <tr>\n",
       "      <th>who</th>\n",
       "      <td>41192</td>\n",
       "    </tr>\n",
       "    <tr>\n",
       "      <th>in</th>\n",
       "      <td>26342</td>\n",
       "    </tr>\n",
       "    <tr>\n",
       "      <th>...</th>\n",
       "      <td>...</td>\n",
       "    </tr>\n",
       "    <tr>\n",
       "      <th>fondling</th>\n",
       "      <td>3</td>\n",
       "    </tr>\n",
       "    <tr>\n",
       "      <th>solubility</th>\n",
       "      <td>3</td>\n",
       "    </tr>\n",
       "    <tr>\n",
       "      <th>rotation</th>\n",
       "      <td>3</td>\n",
       "    </tr>\n",
       "    <tr>\n",
       "      <th>bills</th>\n",
       "      <td>3</td>\n",
       "    </tr>\n",
       "    <tr>\n",
       "      <th>&lt;UNK&gt;</th>\n",
       "      <td>0</td>\n",
       "    </tr>\n",
       "  </tbody>\n",
       "</table>\n",
       "<p>8000 rows × 1 columns</p>\n",
       "</div>"
      ],
      "text/plain": [
       "                0\n",
       "what        97959\n",
       "is          89877\n",
       "doing       49904\n",
       "who         41192\n",
       "in          26342\n",
       "...           ...\n",
       "fondling        3\n",
       "solubility      3\n",
       "rotation        3\n",
       "bills           3\n",
       "<UNK>           0\n",
       "\n",
       "[8000 rows x 1 columns]"
      ]
     },
     "execution_count": 10,
     "metadata": {},
     "output_type": "execute_result"
    }
   ],
   "source": [
    "# Taking the top 7999\n",
    "vocab = pd.DataFrame(vocab.iloc[0:7999])\n",
    "vocab.loc['<UNK>'] = [0]\n",
    "vocab"
   ]
  },
  {
   "cell_type": "code",
   "execution_count": 12,
   "id": "cb09dc4f",
   "metadata": {},
   "outputs": [],
   "source": [
    "vocab.to_csv('msrvtt_vocab', columns=[], header=False)"
   ]
  },
  {
   "cell_type": "code",
   "execution_count": null,
   "id": "9f90641a",
   "metadata": {},
   "outputs": [],
   "source": []
  }
 ],
 "metadata": {
  "kernelspec": {
   "display_name": "Python 3 (ipykernel)",
   "language": "python",
   "name": "python3"
  },
  "language_info": {
   "codemirror_mode": {
    "name": "ipython",
    "version": 3
   },
   "file_extension": ".py",
   "mimetype": "text/x-python",
   "name": "python",
   "nbconvert_exporter": "python",
   "pygments_lexer": "ipython3",
   "version": "3.9.16"
  }
 },
 "nbformat": 4,
 "nbformat_minor": 5
}
