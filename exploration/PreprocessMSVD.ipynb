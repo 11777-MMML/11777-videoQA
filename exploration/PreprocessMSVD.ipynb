{
 "cells": [
  {
   "cell_type": "markdown",
   "id": "349730e6",
   "metadata": {},
   "source": [
    "## Imports"
   ]
  },
  {
   "cell_type": "code",
   "execution_count": 1,
   "id": "a89fe40b",
   "metadata": {},
   "outputs": [],
   "source": [
    "import pandas as pd"
   ]
  },
  {
   "cell_type": "code",
   "execution_count": 2,
   "id": "de42a836",
   "metadata": {},
   "outputs": [],
   "source": [
    "path = '../data/msvd/MSVD-QA/train_qa.json'"
   ]
  },
  {
   "cell_type": "code",
   "execution_count": 3,
   "id": "17a18897",
   "metadata": {},
   "outputs": [
    {
     "data": {
      "text/html": [
       "<div>\n",
       "<style scoped>\n",
       "    .dataframe tbody tr th:only-of-type {\n",
       "        vertical-align: middle;\n",
       "    }\n",
       "\n",
       "    .dataframe tbody tr th {\n",
       "        vertical-align: top;\n",
       "    }\n",
       "\n",
       "    .dataframe thead th {\n",
       "        text-align: right;\n",
       "    }\n",
       "</style>\n",
       "<table border=\"1\" class=\"dataframe\">\n",
       "  <thead>\n",
       "    <tr style=\"text-align: right;\">\n",
       "      <th></th>\n",
       "      <th>answer</th>\n",
       "      <th>id</th>\n",
       "      <th>question</th>\n",
       "      <th>video_id</th>\n",
       "    </tr>\n",
       "  </thead>\n",
       "  <tbody>\n",
       "    <tr>\n",
       "      <th>0</th>\n",
       "      <td>animal</td>\n",
       "      <td>0</td>\n",
       "      <td>what is chewing on a nut?</td>\n",
       "      <td>1</td>\n",
       "    </tr>\n",
       "    <tr>\n",
       "      <th>1</th>\n",
       "      <td>nut</td>\n",
       "      <td>1</td>\n",
       "      <td>what is a small animal chewing on?</td>\n",
       "      <td>1</td>\n",
       "    </tr>\n",
       "    <tr>\n",
       "      <th>2</th>\n",
       "      <td>squirrel</td>\n",
       "      <td>2</td>\n",
       "      <td>what is eating a whole peanut?</td>\n",
       "      <td>1</td>\n",
       "    </tr>\n",
       "    <tr>\n",
       "      <th>3</th>\n",
       "      <td>chipmunk</td>\n",
       "      <td>3</td>\n",
       "      <td>what is eating a nut?</td>\n",
       "      <td>1</td>\n",
       "    </tr>\n",
       "    <tr>\n",
       "      <th>4</th>\n",
       "      <td>chipmunk</td>\n",
       "      <td>4</td>\n",
       "      <td>what is eating a peanut?</td>\n",
       "      <td>1</td>\n",
       "    </tr>\n",
       "    <tr>\n",
       "      <th>...</th>\n",
       "      <td>...</td>\n",
       "      <td>...</td>\n",
       "      <td>...</td>\n",
       "      <td>...</td>\n",
       "    </tr>\n",
       "    <tr>\n",
       "      <th>30928</th>\n",
       "      <td>pack</td>\n",
       "      <td>30928</td>\n",
       "      <td>what is a man doing?</td>\n",
       "      <td>1200</td>\n",
       "    </tr>\n",
       "    <tr>\n",
       "      <th>30929</th>\n",
       "      <td>put</td>\n",
       "      <td>30929</td>\n",
       "      <td>what is a man doing?</td>\n",
       "      <td>1200</td>\n",
       "    </tr>\n",
       "    <tr>\n",
       "      <th>30930</th>\n",
       "      <td>put</td>\n",
       "      <td>30930</td>\n",
       "      <td>what is someone doing?</td>\n",
       "      <td>1200</td>\n",
       "    </tr>\n",
       "    <tr>\n",
       "      <th>30931</th>\n",
       "      <td>marinate</td>\n",
       "      <td>30931</td>\n",
       "      <td>what is someone doing?</td>\n",
       "      <td>1200</td>\n",
       "    </tr>\n",
       "    <tr>\n",
       "      <th>30932</th>\n",
       "      <td>place</td>\n",
       "      <td>30932</td>\n",
       "      <td>what is a person doing?</td>\n",
       "      <td>1200</td>\n",
       "    </tr>\n",
       "  </tbody>\n",
       "</table>\n",
       "<p>30933 rows × 4 columns</p>\n",
       "</div>"
      ],
      "text/plain": [
       "         answer     id                            question  video_id\n",
       "0        animal      0           what is chewing on a nut?         1\n",
       "1           nut      1  what is a small animal chewing on?         1\n",
       "2      squirrel      2      what is eating a whole peanut?         1\n",
       "3      chipmunk      3               what is eating a nut?         1\n",
       "4      chipmunk      4            what is eating a peanut?         1\n",
       "...         ...    ...                                 ...       ...\n",
       "30928      pack  30928                what is a man doing?      1200\n",
       "30929       put  30929                what is a man doing?      1200\n",
       "30930       put  30930              what is someone doing?      1200\n",
       "30931  marinate  30931              what is someone doing?      1200\n",
       "30932     place  30932             what is a person doing?      1200\n",
       "\n",
       "[30933 rows x 4 columns]"
      ]
     },
     "execution_count": 3,
     "metadata": {},
     "output_type": "execute_result"
    }
   ],
   "source": [
    "df = pd.read_json(path)\n",
    "df"
   ]
  },
  {
   "cell_type": "markdown",
   "id": "bd20d51a",
   "metadata": {},
   "source": [
    "## Create Answer Set"
   ]
  },
  {
   "cell_type": "code",
   "execution_count": 4,
   "id": "17fbd023",
   "metadata": {},
   "outputs": [
    {
     "data": {
      "text/html": [
       "<div>\n",
       "<style scoped>\n",
       "    .dataframe tbody tr th:only-of-type {\n",
       "        vertical-align: middle;\n",
       "    }\n",
       "\n",
       "    .dataframe tbody tr th {\n",
       "        vertical-align: top;\n",
       "    }\n",
       "\n",
       "    .dataframe thead th {\n",
       "        text-align: right;\n",
       "    }\n",
       "</style>\n",
       "<table border=\"1\" class=\"dataframe\">\n",
       "  <thead>\n",
       "    <tr style=\"text-align: right;\">\n",
       "      <th></th>\n",
       "      <th>answer</th>\n",
       "    </tr>\n",
       "  </thead>\n",
       "  <tbody>\n",
       "    <tr>\n",
       "      <th>man</th>\n",
       "      <td>4209</td>\n",
       "    </tr>\n",
       "    <tr>\n",
       "      <th>woman</th>\n",
       "      <td>2280</td>\n",
       "    </tr>\n",
       "    <tr>\n",
       "      <th>person</th>\n",
       "      <td>934</td>\n",
       "    </tr>\n",
       "    <tr>\n",
       "      <th>someone</th>\n",
       "      <td>656</td>\n",
       "    </tr>\n",
       "    <tr>\n",
       "      <th>two</th>\n",
       "      <td>608</td>\n",
       "    </tr>\n",
       "    <tr>\n",
       "      <th>...</th>\n",
       "      <td>...</td>\n",
       "    </tr>\n",
       "    <tr>\n",
       "      <th>jellyroll</th>\n",
       "      <td>1</td>\n",
       "    </tr>\n",
       "    <tr>\n",
       "      <th>tupperware</th>\n",
       "      <td>1</td>\n",
       "    </tr>\n",
       "    <tr>\n",
       "      <th>barbeque</th>\n",
       "      <td>1</td>\n",
       "    </tr>\n",
       "    <tr>\n",
       "      <th>pop</th>\n",
       "      <td>1</td>\n",
       "    </tr>\n",
       "    <tr>\n",
       "      <th>pack</th>\n",
       "      <td>1</td>\n",
       "    </tr>\n",
       "  </tbody>\n",
       "</table>\n",
       "<p>1852 rows × 1 columns</p>\n",
       "</div>"
      ],
      "text/plain": [
       "            answer\n",
       "man           4209\n",
       "woman         2280\n",
       "person         934\n",
       "someone        656\n",
       "two            608\n",
       "...            ...\n",
       "jellyroll        1\n",
       "tupperware       1\n",
       "barbeque         1\n",
       "pop              1\n",
       "pack             1\n",
       "\n",
       "[1852 rows x 1 columns]"
      ]
     },
     "execution_count": 4,
     "metadata": {},
     "output_type": "execute_result"
    }
   ],
   "source": [
    "answer_freq = df['answer'].value_counts()\n",
    "answer_freq.to_frame()"
   ]
  },
  {
   "cell_type": "markdown",
   "id": "99b66b31",
   "metadata": {},
   "source": [
    "### Take the first 1000 words\n",
    "https://github.com/xudejing/video-question-answering/blob/462f6e599fb02cee77c0b3d86901593efeb11c88/preprocess_msvdqa.py#L64"
   ]
  },
  {
   "cell_type": "code",
   "execution_count": 5,
   "id": "8511043e",
   "metadata": {},
   "outputs": [
    {
     "data": {
      "text/plain": [
       "0            man\n",
       "1          woman\n",
       "2         person\n",
       "3        someone\n",
       "4            two\n",
       "         ...    \n",
       "995    cardboard\n",
       "996      lecture\n",
       "997      stuffed\n",
       "998         doll\n",
       "999      handbag\n",
       "Name: index, Length: 1000, dtype: object"
      ]
     },
     "execution_count": 5,
     "metadata": {},
     "output_type": "execute_result"
    }
   ],
   "source": [
    "top_1k = pd.DataFrame(answer_freq.iloc[:1000]).reset_index()\n",
    "top_1k = top_1k['index']\n",
    "top_1k"
   ]
  },
  {
   "cell_type": "markdown",
   "id": "cde7e055",
   "metadata": {},
   "source": [
    "## Create Vocabulary\n",
    "https://github.com/xudejing/video-question-answering/blob/462f6e599fb02cee77c0b3d86901593efeb11c88/preprocess_msvdqa.py#L77"
   ]
  },
  {
   "cell_type": "code",
   "execution_count": 8,
   "id": "ae0870db",
   "metadata": {},
   "outputs": [
    {
     "name": "stdout",
     "output_type": "stream",
     "text": [
      "Number of original rows: 30933\n",
      "Number of rows after filtering: 29883\n"
     ]
    }
   ],
   "source": [
    "vocab = dict()\n",
    "\n",
    "# Only take the questions in the top 1k\n",
    "filtered_df = df[df['answer'].isin(top_1k)]\n",
    "\n",
    "questions = filtered_df['question'].values\n",
    "\n",
    "print(f'Number of original rows: {len(df)}')\n",
    "print(f'Number of rows after filtering: {len(filtered_df)}')"
   ]
  },
  {
   "cell_type": "markdown",
   "id": "0d3bd881",
   "metadata": {},
   "source": [
    "### Extract tokens"
   ]
  },
  {
   "cell_type": "code",
   "execution_count": 10,
   "id": "da01080d",
   "metadata": {},
   "outputs": [
    {
     "data": {
      "text/plain": [
       "what        37234\n",
       "is          37120\n",
       "who         20662\n",
       "the         14374\n",
       "doing       11884\n",
       "            ...  \n",
       "dawn            2\n",
       "turle           2\n",
       "rae             2\n",
       "knee            2\n",
       "response        2\n",
       "Length: 4729, dtype: int64"
      ]
     },
     "execution_count": 10,
     "metadata": {},
     "output_type": "execute_result"
    }
   ],
   "source": [
    "for question in questions:\n",
    "    words = question.rstrip('?').split()\n",
    "    \n",
    "    for word in words:\n",
    "        if len(word) >= 2:\n",
    "            vocab[word] = vocab.get(word, 0) + 1\n",
    "\n",
    "vocab = pd.Series(vocab)\n",
    "vocab.sort_values(ascending=False, inplace=True)\n",
    "vocab"
   ]
  },
  {
   "cell_type": "code",
   "execution_count": 11,
   "id": "19cd107c",
   "metadata": {},
   "outputs": [
    {
     "data": {
      "text/html": [
       "<div>\n",
       "<style scoped>\n",
       "    .dataframe tbody tr th:only-of-type {\n",
       "        vertical-align: middle;\n",
       "    }\n",
       "\n",
       "    .dataframe tbody tr th {\n",
       "        vertical-align: top;\n",
       "    }\n",
       "\n",
       "    .dataframe thead th {\n",
       "        text-align: right;\n",
       "    }\n",
       "</style>\n",
       "<table border=\"1\" class=\"dataframe\">\n",
       "  <thead>\n",
       "    <tr style=\"text-align: right;\">\n",
       "      <th></th>\n",
       "      <th>0</th>\n",
       "    </tr>\n",
       "  </thead>\n",
       "  <tbody>\n",
       "    <tr>\n",
       "      <th>what</th>\n",
       "      <td>37234</td>\n",
       "    </tr>\n",
       "    <tr>\n",
       "      <th>is</th>\n",
       "      <td>37120</td>\n",
       "    </tr>\n",
       "    <tr>\n",
       "      <th>who</th>\n",
       "      <td>20662</td>\n",
       "    </tr>\n",
       "    <tr>\n",
       "      <th>the</th>\n",
       "      <td>14374</td>\n",
       "    </tr>\n",
       "    <tr>\n",
       "      <th>doing</th>\n",
       "      <td>11884</td>\n",
       "    </tr>\n",
       "    <tr>\n",
       "      <th>...</th>\n",
       "      <td>...</td>\n",
       "    </tr>\n",
       "    <tr>\n",
       "      <th>jati</th>\n",
       "      <td>2</td>\n",
       "    </tr>\n",
       "    <tr>\n",
       "      <th>rhe</th>\n",
       "      <td>2</td>\n",
       "    </tr>\n",
       "    <tr>\n",
       "      <th>precision</th>\n",
       "      <td>2</td>\n",
       "    </tr>\n",
       "    <tr>\n",
       "      <th>imperial</th>\n",
       "      <td>2</td>\n",
       "    </tr>\n",
       "    <tr>\n",
       "      <th>&lt;UNK&gt;</th>\n",
       "      <td>0</td>\n",
       "    </tr>\n",
       "  </tbody>\n",
       "</table>\n",
       "<p>4000 rows × 1 columns</p>\n",
       "</div>"
      ],
      "text/plain": [
       "               0\n",
       "what       37234\n",
       "is         37120\n",
       "who        20662\n",
       "the        14374\n",
       "doing      11884\n",
       "...          ...\n",
       "jati           2\n",
       "rhe            2\n",
       "precision      2\n",
       "imperial       2\n",
       "<UNK>          0\n",
       "\n",
       "[4000 rows x 1 columns]"
      ]
     },
     "execution_count": 11,
     "metadata": {},
     "output_type": "execute_result"
    }
   ],
   "source": [
    "# Taking the top 3999\n",
    "vocab = pd.DataFrame(vocab.iloc[0:3999])\n",
    "vocab.loc['<UNK>'] = [0]\n",
    "vocab"
   ]
  },
  {
   "cell_type": "code",
   "execution_count": 13,
   "id": "292f7aa0",
   "metadata": {},
   "outputs": [],
   "source": [
    "vocab.to_csv('msvd_vocab', columns=[], header=False)"
   ]
  },
  {
   "cell_type": "code",
   "execution_count": null,
   "id": "07610711",
   "metadata": {},
   "outputs": [],
   "source": []
  }
 ],
 "metadata": {
  "kernelspec": {
   "display_name": "Python 3 (ipykernel)",
   "language": "python",
   "name": "python3"
  },
  "language_info": {
   "codemirror_mode": {
    "name": "ipython",
    "version": 3
   },
   "file_extension": ".py",
   "mimetype": "text/x-python",
   "name": "python",
   "nbconvert_exporter": "python",
   "pygments_lexer": "ipython3",
   "version": "3.9.16"
  }
 },
 "nbformat": 4,
 "nbformat_minor": 5
}
