{
 "cells": [
  {
   "cell_type": "markdown",
   "metadata": {},
   "source": [
    "# Split Video features into app and mot"
   ]
  },
  {
   "cell_type": "code",
   "execution_count": null,
   "metadata": {},
   "outputs": [],
   "source": [
    "import torch\n",
    "import numpy as np\n",
    "import h5py\n",
    "\n",
    "train_datapath = \"/home/adithyas/NExT-QA/data/feats/vid_feat/app_mot_train.h5\"\n",
    "val_datapath = \"/home/adithyas/NExT-QA/data/feats/vid_feat/app_mot_val.h5\"\n",
    "test_datapath = \"/home/adithyas/NExT-QA/data/feats/vid_feat/app_mot_test.h5\""
   ]
  },
  {
   "cell_type": "code",
   "execution_count": null,
   "metadata": {},
   "outputs": [],
   "source": [
    "def load_data(features_path='app_mot_train.h5', id_key=\"ids\", features_key=\"feat\"):\n",
    "    with h5py.File(features_path, 'r') as f:\n",
    "        # (3870,) # (3870, 16, 4096)\n",
    "        ids, features = f[id_key][()], f[features_key][()]\n",
    "    return ids, features"
   ]
  },
  {
   "cell_type": "code",
   "execution_count": 3,
   "metadata": {},
   "outputs": [
    {
     "name": "stdout",
     "output_type": "stream",
     "text": [
      "(3870, 16, 4096) (570, 16, 4096) (1000, 16, 4096)\n"
     ]
    }
   ],
   "source": [
    "id_key, features_key = \"ids\", \"feat\"\n",
    "train_ids, train_features = load_data(train_datapath, id_key, features_key)\n",
    "val_ids, val_features = load_data(val_datapath, id_key, features_key)\n",
    "test_ids, test_features = load_data(test_datapath, id_key, features_key)\n",
    "# (3870, 16, 4096) (570, 16, 4096) (1000, 16, 4096)\n",
    "print(f\"{train_features.shape} {val_features.shape} {test_features.shape}\")"
   ]
  },
  {
   "cell_type": "code",
   "execution_count": 28,
   "metadata": {},
   "outputs": [
    {
     "name": "stdout",
     "output_type": "stream",
     "text": [
      "(3870, 16, 2048) (3870, 16, 2048)\n"
     ]
    }
   ],
   "source": [
    "train_app_features, train_motion_features = train_features[:, :, :2048], train_features[:, :, 2048:]\n",
    "# (3870, 16, 2048) (3870, 16, 2048)\n",
    "print(f\"{train_app_features.shape} {train_motion_features.shape}\")\n",
    "\n",
    "val_app_features, val_motion_features = val_features[:, :, :2048], val_features[:, :, 2048:]\n",
    "test_app_features, test_motion_features = test_features[:, :, :2048], test_features[:, :, 2048:]"
   ]
  },
  {
   "cell_type": "code",
   "execution_count": 29,
   "metadata": {},
   "outputs": [],
   "source": [
    "train = h5py.File('/home/adithyas/NExT-QA/data/feats/vid_feat/train_features.h5', 'w')\n",
    "val = h5py.File('/home/adithyas/NExT-QA/data/feats/vid_feat/val_features.h5', 'w')\n",
    "test = h5py.File('/home/adithyas/NExT-QA/data/feats/vid_feat/test_features.h5', 'w')\n",
    "\n",
    "train.create_dataset('app_feat', data=train_app_features)\n",
    "train.create_dataset('mot_feat', data=train_motion_features)\n",
    "\n",
    "val.create_dataset('app_feat', data=val_app_features)\n",
    "val.create_dataset('mot_feat', data=val_motion_features)\n",
    "\n",
    "test.create_dataset('app_feat', data=test_app_features)\n",
    "test.create_dataset('mot_feat', data=test_motion_features)\n",
    "\n",
    "train.close()\n",
    "val.close()\n",
    "test.close()"
   ]
  },
  {
   "cell_type": "markdown",
   "metadata": {},
   "source": [
    "# Load model weights"
   ]
  },
  {
   "cell_type": "code",
   "execution_count": 4,
   "metadata": {},
   "outputs": [
    {
     "data": {
      "text/plain": [
       "<All keys matched successfully>"
      ]
     },
     "execution_count": 4,
     "metadata": {},
     "output_type": "execute_result"
    }
   ],
   "source": [
    "from networks.hga import HGA\n",
    "data_dict = torch.load(\"/home/adithyas/IGV/weights/hga_model.ckpt\")\n",
    "model = HGA(1852, 512,  512, 0.5, 1, 1, memory=train_features)\n",
    "model.load_state_dict(data_dict)"
   ]
  },
  {
   "cell_type": "code",
   "execution_count": null,
   "metadata": {},
   "outputs": [],
   "source": []
  }
 ],
 "metadata": {
  "kernelspec": {
   "display_name": "Python 3.8.12 ('3d': conda)",
   "language": "python",
   "name": "python3"
  },
  "language_info": {
   "codemirror_mode": {
    "name": "ipython",
    "version": 3
   },
   "file_extension": ".py",
   "mimetype": "text/x-python",
   "name": "python",
   "nbconvert_exporter": "python",
   "pygments_lexer": "ipython3",
   "version": "3.8.12"
  },
  "orig_nbformat": 4,
  "vscode": {
   "interpreter": {
    "hash": "ebdec5c5c3443710d37b6a37c04982853ff52a35977276b60cf2ec1621a4cc16"
   }
  }
 },
 "nbformat": 4,
 "nbformat_minor": 2
}
