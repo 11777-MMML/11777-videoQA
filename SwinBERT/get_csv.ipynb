{
 "cells": [
  {
   "cell_type": "code",
   "execution_count": 1,
   "metadata": {},
   "outputs": [],
   "source": [
    "import os\n",
    "import pandas as pd\n",
    "import shutil\n",
    "from tqdm import tqdm\n",
    "import numpy as np"
   ]
  },
  {
   "cell_type": "code",
   "execution_count": 47,
   "metadata": {},
   "outputs": [],
   "source": [
    "def move_save(split=\"test\"):\n",
    "    save_dir = f\"./docs/{split}\"\n",
    "    abs_path = []\n",
    "    for root, dirs, files in os.walk(save_dir):\n",
    "        for file in files:\n",
    "            abs_path.append(os.path.join(root, file))\n",
    "    df = pd.DataFrame({f\"vid_path\": abs_path})\n",
    "    df.to_csv(f\"{split}_videos.csv\", index=False)"
   ]
  },
  {
   "cell_type": "code",
   "execution_count": 48,
   "metadata": {},
   "outputs": [],
   "source": [
    "move_save(split=\"train\")\n",
    "# move_save(split=\"test\")\n",
    "# move_save(split=\"val\")"
   ]
  },
  {
   "cell_type": "code",
   "execution_count": 49,
   "metadata": {},
   "outputs": [],
   "source": [
    "df = pd.read_csv(\"train_videos.csv\")\n",
    "# df2 = pd.read_csv(\"val_videos.csv\")\n",
    "# df3 = pd.read_csv(\"test_videos.csv\")\n",
    "# frames = [df2, df3]\n",
    "# df = pd.concat(frames)\n",
    "# df.to_csv(f\"val_test_videos.csv\", index=False)"
   ]
  },
  {
   "cell_type": "code",
   "execution_count": 51,
   "metadata": {},
   "outputs": [],
   "source": [
    "n = len(df)//4\n",
    "for g, test in df.groupby(np.arange(len(df)) // n):\n",
    "    # print(len(test))\n",
    "    test.to_csv(f\"train_split_{g+1}.csv\", index=False)\n",
    "# (400, 2)\n",
    "# (400, 2)\n",
    "# (311, 2)"
   ]
  },
  {
   "cell_type": "code",
   "execution_count": 3,
   "metadata": {},
   "outputs": [],
   "source": [
    "df1 = pd.read_csv(\"SwinBERT_split1_val_test_captions.csv\")\n",
    "df2 = pd.read_csv(\"SwinBERT_split2_val_test_captions.csv\")\n",
    "df3 = pd.read_csv(\"SwinBERT_split3_val_test_captions.csv\")\n",
    "df4 = pd.read_csv(\"SwinBERT_split4_val_test_captions.csv\")\n",
    "frames = [df1, df2, df3, df4]\n",
    "df = pd.concat(frames)\n",
    "df.to_csv(f\"SwinBERT_val_test_captions.csv\", index=False)"
   ]
  },
  {
   "cell_type": "code",
   "execution_count": 52,
   "metadata": {},
   "outputs": [
    {
     "data": {
      "text/plain": [
       "True"
      ]
     },
     "execution_count": 52,
     "metadata": {},
     "output_type": "execute_result"
    }
   ],
   "source": [
    "df1 = pd.read_csv(\"data_split/train_videos.csv\")\n",
    "count = 0\n",
    "for i in range(1, 5):\n",
    "    df = pd.read_csv(f\"train_split_{i}.csv\")\n",
    "    count+= len(df)\n",
    "len(df1)==count"
   ]
  },
  {
   "cell_type": "code",
   "execution_count": null,
   "metadata": {},
   "outputs": [],
   "source": [
    "export REPO_DIR=$PWD\n",
    "DATASETS=$REPO_DIR'/datasets/'\n",
    "MODELS=$REPO_DIR'/models/'\n",
    "OUTPUT_DIR=$REPO_DIR'/output/'\n",
    "sudo sh launch_container.sh $DATASETS $MODELS $OUTPUT_DIR"
   ]
  },
  {
   "cell_type": "code",
   "execution_count": null,
   "metadata": {},
   "outputs": [],
   "source": [
    "export EVAL_DIR='./models/table1/vatex/best-checkpoint/'\n",
    "export CHECKPOINT='./models/table1/vatex/best-checkpoint/model.bin'\n",
    "export VIDEO='./docs/G0mjFqytJt4_000152_000162.mp4'\n",
    "# [1] 391\n",
    "CUDA_VISIBLE_DEVICES=0 nohup python src/tasks/run_caption_VidSwinBert_inference.py --resume_checkpoint $CHECKPOINT  --eval_model_dir $EVAL_DIR --test_video_fname $VIDEO --splits=1 --do_lower_case --do_test > split1.out &\n",
    "# [2] 892\n",
    "CUDA_VISIBLE_DEVICES=1 nohup python src/tasks/run_caption_VidSwinBert_inference.py --resume_checkpoint $CHECKPOINT  --eval_model_dir $EVAL_DIR --test_video_fname $VIDEO --splits=2 --do_lower_case --do_test > split2.out &\n",
    "# [3] 1391\n",
    "CUDA_VISIBLE_DEVICES=2 nohup python src/tasks/run_caption_VidSwinBert_inference.py --resume_checkpoint $CHECKPOINT  --eval_model_dir $EVAL_DIR --test_video_fname $VIDEO --splits=3 --do_lower_case --do_test > split3.out &\n",
    "# [4] 2025\n",
    "CUDA_VISIBLE_DEVICES=3 nohup python src/tasks/run_caption_VidSwinBert_inference.py --resume_checkpoint $CHECKPOINT  --eval_model_dir $EVAL_DIR --test_video_fname $VIDEO --splits=4 --do_lower_case --do_test > split4.out &"
   ]
  },
  {
   "cell_type": "code",
   "execution_count": 20,
   "metadata": {},
   "outputs": [],
   "source": [
    "df = pd.read_csv(f\"SwinBERT_val_test_captions.csv\")\n",
    "# df_val = pd.read_csv(f\"val_videos.csv\")\n",
    "# df_val[\"vid_num\"] = df_val[\"vid_path\"].str.split(\"/\").str[-1].str.split(\".\").str[0].astype(np.int64)\n",
    "# df_val.to_csv(f\"val_videos.csv\", index=False)\n",
    "# mask = df[\"vid_num\"].isin(df_val[\"vid_num\"])\n",
    "# df1 = df[mask]\n",
    "# df1 = df1.drop(columns=[\"Unnamed: 0\"])\n",
    "# df1.to_csv(\"SwinBERT_val_captions.csv\", index=False)\n",
    "\n",
    "df_test = pd.read_csv(f\"test_videos.csv\")\n",
    "df_test[\"vid_num\"] = df_test[\"vid_path\"].str.split(\"/\").str[-1].str.split(\".\").str[0].astype(np.int64)\n",
    "df_test.to_csv(f\"test_videos.csv\", index=False)\n",
    "mask = df[\"vid_num\"].isin(df_test[\"vid_num\"])\n",
    "df2 = df[mask]\n",
    "try:\n",
    "    df2 = df2.drop(columns=[\"Unnamed: 0\"])\n",
    "except:\n",
    "    pass\n",
    "df2.to_csv(\"SwinBERT_missing_captions.csv\", index=False)"
   ]
  },
  {
   "cell_type": "code",
   "execution_count": 21,
   "metadata": {},
   "outputs": [
    {
     "data": {
      "text/plain": [
       "1619"
      ]
     },
     "execution_count": 21,
     "metadata": {},
     "output_type": "execute_result"
    }
   ],
   "source": []
  },
  {
   "cell_type": "code",
   "execution_count": null,
   "metadata": {},
   "outputs": [],
   "source": []
  }
 ],
 "metadata": {
  "kernelspec": {
   "display_name": "Python 3.8.13 ('adi': conda)",
   "language": "python",
   "name": "python3"
  },
  "language_info": {
   "codemirror_mode": {
    "name": "ipython",
    "version": 3
   },
   "file_extension": ".py",
   "mimetype": "text/x-python",
   "name": "python",
   "nbconvert_exporter": "python",
   "pygments_lexer": "ipython3",
   "version": "3.8.15"
  },
  "orig_nbformat": 4,
  "vscode": {
   "interpreter": {
    "hash": "1dfe2ea80f9dde804c12f385e3b7ddc064468faa70c678b79f7851865103f230"
   }
  }
 },
 "nbformat": 4,
 "nbformat_minor": 2
}
