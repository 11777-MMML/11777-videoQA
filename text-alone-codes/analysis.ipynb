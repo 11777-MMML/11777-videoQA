{
 "cells": [
  {
   "cell_type": "code",
   "execution_count": 74,
   "metadata": {},
   "outputs": [],
   "source": [
    "import pandas as pd\n",
    "from scipy.special import rel_entr\n",
    "import matplotlib.pyplot as plt\n",
    "import numpy as np\n",
    "#calculate (P || Q)\n"
   ]
  },
  {
   "cell_type": "code",
   "execution_count": 2,
   "metadata": {},
   "outputs": [],
   "source": [
    "df = pd.read_csv(\"text-alone-predictions.csv\")"
   ]
  },
  {
   "cell_type": "code",
   "execution_count": 46,
   "metadata": {},
   "outputs": [],
   "source": [
    "correct = df.loc[df[\"labels\"] == df[\"predictions\"]]"
   ]
  },
  {
   "cell_type": "code",
   "execution_count": 47,
   "metadata": {},
   "outputs": [],
   "source": [
    "wrong = df.loc[df[\"labels\"] != df[\"predictions\"]]"
   ]
  },
  {
   "cell_type": "code",
   "execution_count": 48,
   "metadata": {},
   "outputs": [
    {
     "name": "stderr",
     "output_type": "stream",
     "text": [
      "/var/folders/4n/89dlbs9s4gv5r3mljb0bt4pm0000gn/T/ipykernel_44125/912151482.py:1: SettingWithCopyWarning: \n",
      "A value is trying to be set on a copy of a slice from a DataFrame.\n",
      "Try using .loc[row_indexer,col_indexer] = value instead\n",
      "\n",
      "See the caveats in the documentation: https://pandas.pydata.org/pandas-docs/stable/user_guide/indexing.html#returning-a-view-versus-a-copy\n",
      "  correct[\"max_prob\"] = correct.apply(lambda row: max(row[[\"p0\", \"p1\", \"p2\", \"p3\", \"p4\"]].values), axis=1)\n",
      "/var/folders/4n/89dlbs9s4gv5r3mljb0bt4pm0000gn/T/ipykernel_44125/912151482.py:2: SettingWithCopyWarning: \n",
      "A value is trying to be set on a copy of a slice from a DataFrame.\n",
      "Try using .loc[row_indexer,col_indexer] = value instead\n",
      "\n",
      "See the caveats in the documentation: https://pandas.pydata.org/pandas-docs/stable/user_guide/indexing.html#returning-a-view-versus-a-copy\n",
      "  wrong[\"max_prob\"] = wrong.apply(lambda row: max(row[[\"p0\", \"p1\", \"p2\", \"p3\", \"p4\"]].values), axis=1)\n",
      "/var/folders/4n/89dlbs9s4gv5r3mljb0bt4pm0000gn/T/ipykernel_44125/912151482.py:4: SettingWithCopyWarning: \n",
      "A value is trying to be set on a copy of a slice from a DataFrame.\n",
      "Try using .loc[row_indexer,col_indexer] = value instead\n",
      "\n",
      "See the caveats in the documentation: https://pandas.pydata.org/pandas-docs/stable/user_guide/indexing.html#returning-a-view-versus-a-copy\n",
      "  correct[\"answer_label\"] = correct.apply(lambda row: row[\"a%d\"%(row[\"answer\"])], axis=1)\n",
      "/var/folders/4n/89dlbs9s4gv5r3mljb0bt4pm0000gn/T/ipykernel_44125/912151482.py:5: SettingWithCopyWarning: \n",
      "A value is trying to be set on a copy of a slice from a DataFrame.\n",
      "Try using .loc[row_indexer,col_indexer] = value instead\n",
      "\n",
      "See the caveats in the documentation: https://pandas.pydata.org/pandas-docs/stable/user_guide/indexing.html#returning-a-view-versus-a-copy\n",
      "  wrong[\"answer_label\"] = wrong.apply(lambda row: row[\"a%d\"%(row[\"answer\"])], axis=1)\n",
      "/var/folders/4n/89dlbs9s4gv5r3mljb0bt4pm0000gn/T/ipykernel_44125/912151482.py:7: SettingWithCopyWarning: \n",
      "A value is trying to be set on a copy of a slice from a DataFrame.\n",
      "Try using .loc[row_indexer,col_indexer] = value instead\n",
      "\n",
      "See the caveats in the documentation: https://pandas.pydata.org/pandas-docs/stable/user_guide/indexing.html#returning-a-view-versus-a-copy\n",
      "  correct[\"predicted_label\"] = correct.apply(lambda row: row[\"a%d\"%(row[\"predictions\"])], axis=1)\n",
      "/var/folders/4n/89dlbs9s4gv5r3mljb0bt4pm0000gn/T/ipykernel_44125/912151482.py:8: SettingWithCopyWarning: \n",
      "A value is trying to be set on a copy of a slice from a DataFrame.\n",
      "Try using .loc[row_indexer,col_indexer] = value instead\n",
      "\n",
      "See the caveats in the documentation: https://pandas.pydata.org/pandas-docs/stable/user_guide/indexing.html#returning-a-view-versus-a-copy\n",
      "  wrong[\"predicted_label\"] = wrong.apply(lambda row: row[\"a%d\"%(row[\"predictions\"])], axis=1)\n",
      "/var/folders/4n/89dlbs9s4gv5r3mljb0bt4pm0000gn/T/ipykernel_44125/912151482.py:10: SettingWithCopyWarning: \n",
      "A value is trying to be set on a copy of a slice from a DataFrame.\n",
      "Try using .loc[row_indexer,col_indexer] = value instead\n",
      "\n",
      "See the caveats in the documentation: https://pandas.pydata.org/pandas-docs/stable/user_guide/indexing.html#returning-a-view-versus-a-copy\n",
      "  correct[\"kl_div\"] = correct.apply(lambda row: sum(rel_entr(row[[\"p0\", \"p1\", \"p2\", \"p3\", \"p4\"]].values.tolist(), [0.2, 0.2, 0.2, 0.2, 0.2])), axis=1)\n",
      "/var/folders/4n/89dlbs9s4gv5r3mljb0bt4pm0000gn/T/ipykernel_44125/912151482.py:11: SettingWithCopyWarning: \n",
      "A value is trying to be set on a copy of a slice from a DataFrame.\n",
      "Try using .loc[row_indexer,col_indexer] = value instead\n",
      "\n",
      "See the caveats in the documentation: https://pandas.pydata.org/pandas-docs/stable/user_guide/indexing.html#returning-a-view-versus-a-copy\n",
      "  wrong[\"kl_div\"] = wrong.apply(lambda row: sum(rel_entr(row[[\"p0\", \"p1\", \"p2\", \"p3\", \"p4\"]].values.tolist(), [0.2, 0.2, 0.2, 0.2, 0.2])), axis=1)\n"
     ]
    }
   ],
   "source": [
    "correct[\"max_prob\"] = correct.apply(lambda row: max(row[[\"p0\", \"p1\", \"p2\", \"p3\", \"p4\"]].values), axis=1)\n",
    "wrong[\"max_prob\"] = wrong.apply(lambda row: max(row[[\"p0\", \"p1\", \"p2\", \"p3\", \"p4\"]].values), axis=1)\n",
    "\n",
    "correct[\"answer_label\"] = correct.apply(lambda row: row[\"a%d\"%(row[\"answer\"])], axis=1)\n",
    "wrong[\"answer_label\"] = wrong.apply(lambda row: row[\"a%d\"%(row[\"answer\"])], axis=1)\n",
    "\n",
    "correct[\"predicted_label\"] = correct.apply(lambda row: row[\"a%d\"%(row[\"predictions\"])], axis=1)\n",
    "wrong[\"predicted_label\"] = wrong.apply(lambda row: row[\"a%d\"%(row[\"predictions\"])], axis=1)\n",
    "\n",
    "correct[\"kl_div\"] = correct.apply(lambda row: sum(rel_entr(row[[\"p0\", \"p1\", \"p2\", \"p3\", \"p4\"]].values.tolist(), [0.2, 0.2, 0.2, 0.2, 0.2])), axis=1)\n",
    "wrong[\"kl_div\"] = wrong.apply(lambda row: sum(rel_entr(row[[\"p0\", \"p1\", \"p2\", \"p3\", \"p4\"]].values.tolist(), [0.2, 0.2, 0.2, 0.2, 0.2])), axis=1)\n",
    "\n",
    "correct = correct.sort_values([\"max_prob\"], ascending=False)\n",
    "wrong = wrong.sort_values([\"max_prob\"], ascending=False)"
   ]
  },
  {
   "cell_type": "code",
   "execution_count": 49,
   "metadata": {},
   "outputs": [
    {
     "name": "stdout",
     "output_type": "stream",
     "text": [
      "why are there people standing on the roads that are meant for cars near the end of the video & CW & talking & waiting to cross \\\\\n",
      "how did the people make sure they can see clearly in the dark & DO & shine light & wear spectacles \\\\\n",
      "what did the lady in pink do after picking up the brush at first & TN & move it on the egg slowly & pick up more brushes \\\\\n"
     ]
    }
   ],
   "source": [
    "for x in wrong.iloc[:3][[\"question\", \"type\", \"answer_label\", \"predicted_label\"]].values:\n",
    "    print(\" & \".join([f\"{y}\" for y in x]) + \" \\\\\\\\\")"
   ]
  },
  {
   "cell_type": "code",
   "execution_count": 51,
   "metadata": {},
   "outputs": [
    {
     "data": {
      "text/plain": [
       "array([1.60935268e+00, 1.60934055e+00, 1.60932799e+00, ...,\n",
       "       7.36467626e-03, 1.18892218e-03, 1.09631791e-03])"
      ]
     },
     "execution_count": 51,
     "metadata": {},
     "output_type": "execute_result"
    }
   ],
   "source": [
    "correct[\"kl_div\"].values"
   ]
  },
  {
   "cell_type": "code",
   "execution_count": 85,
   "metadata": {},
   "outputs": [
    {
     "data": {
      "image/png": "[encoded data removed]",
      "text/plain": [
       "<Figure size 432x288 with 1 Axes>"
      ]
     },
     "metadata": {
      "needs_background": "light"
     },
     "output_type": "display_data"
    }
   ],
   "source": [
    "bins1 = plt.hist(correct[\"kl_div\"].values, bins=10, width=0.1)\n",
    "bins2 = plt.hist(wrong[\"kl_div\"].values, bins=bins1[1], width=0.1)\n",
    "plt.close()\n",
    "plt.cla()\n",
    "plt.bar(np.array(range(len(bins1[0]))) - 0.15, bins1[0], width=0.3, label=\"correct\")\n",
    "plt.bar(np.array(range(len(bins2[0]))) + 0.15 , bins2[0], width=0.3, label=\"incorrect\")\n",
    "plt.xticks(np.array(range(len(bins1[0]))), [\"%0.2f\"%x for x in bins1[1][1:]])\n",
    "plt.xlabel(\"KL-divergence\")\n",
    "plt.ylabel(\"No. of examples\")\n",
    "plt.legend()\n",
    "plt.savefig(\"confidence.png\",dpi=120)\n",
    "# bins = plt.hist(correct[\"kl_div\"].values, bins=bins1[1], width=0.1)\n"
   ]
  },
  {
   "cell_type": "code",
   "execution_count": 63,
   "metadata": {},
   "outputs": [
    {
     "data": {
      "text/plain": [
       "(array([206., 437., 603., 670., 605., 623., 414., 339., 330., 388.]),\n",
       " array([1.09631791e-03, 1.61921954e-01, 3.22747590e-01, 4.83573226e-01,\n",
       "        6.44398862e-01, 8.05224498e-01, 9.66050134e-01, 1.12687577e+00,\n",
       "        1.28770141e+00, 1.44852704e+00, 1.60935268e+00]),\n",
       " <BarContainer object of 10 artists>)"
      ]
     },
     "execution_count": 63,
     "metadata": {},
     "output_type": "execute_result"
    },
    {
     "data": {
      "image/png": "[encoded data removed]",
      "text/plain": [
       "<Figure size 432x288 with 1 Axes>"
      ]
     },
     "metadata": {
      "needs_background": "light"
     },
     "output_type": "display_data"
    }
   ],
   "source": []
  },
  {
   "cell_type": "code",
   "execution_count": null,
   "metadata": {},
   "outputs": [],
   "source": []
  }
 ],
 "metadata": {
  "kernelspec": {
   "display_name": "Python 3.9.12 ('base')",
   "language": "python",
   "name": "python3"
  },
  "language_info": {
   "codemirror_mode": {
    "name": "ipython",
    "version": 3
   },
   "file_extension": ".py",
   "mimetype": "text/x-python",
   "name": "python",
   "nbconvert_exporter": "python",
   "pygments_lexer": "ipython3",
   "version": "3.9.12"
  },
  "orig_nbformat": 4,
  "vscode": {
   "interpreter": {
    "hash": "c6e4e9f98eb68ad3b7c296f83d20e6de614cb42e90992a65aa266555a3137d0d"
   }
  }
 },
 "nbformat": 4,
 "nbformat_minor": 2
}
